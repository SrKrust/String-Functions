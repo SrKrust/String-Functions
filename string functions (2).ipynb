{
 "cells": [
  {
   "cell_type": "markdown",
   "id": "ba1b4985",
   "metadata": {},
   "source": [
    "# funtions of string (part -2)"
   ]
  },
  {
   "cell_type": "code",
   "execution_count": 48,
   "id": "cefe1eaa",
   "metadata": {},
   "outputs": [],
   "source": [
    "a=\"kshitij\"\n",
    "b=\"ghule\"\n",
    "c=a+b"
   ]
  },
  {
   "cell_type": "code",
   "execution_count": 14,
   "id": "1c97fdd0",
   "metadata": {},
   "outputs": [
    {
     "data": {
      "text/plain": [
       "'kshitij21ghule'"
      ]
     },
     "execution_count": 14,
     "metadata": {},
     "output_type": "execute_result"
    }
   ],
   "source": [
    "c"
   ]
  },
  {
   "cell_type": "code",
   "execution_count": 15,
   "id": "29319e43",
   "metadata": {},
   "outputs": [
    {
     "data": {
      "text/plain": [
       "3"
      ]
     },
     "execution_count": 15,
     "metadata": {},
     "output_type": "execute_result"
    }
   ],
   "source": [
    "c.index(\"i\") #index gives the index position of the given value in the string"
   ]
  },
  {
   "cell_type": "code",
   "execution_count": 16,
   "id": "63b57192",
   "metadata": {},
   "outputs": [
    {
     "data": {
      "text/plain": [
       "True"
      ]
     },
     "execution_count": 16,
     "metadata": {},
     "output_type": "execute_result"
    }
   ],
   "source": [
    "c.isalnum()# isalnum states whether all characters of the string are alpha numeric"
   ]
  },
  {
   "cell_type": "code",
   "execution_count": 18,
   "id": "4675df26",
   "metadata": {},
   "outputs": [
    {
     "data": {
      "text/plain": [
       "True"
      ]
     },
     "execution_count": 18,
     "metadata": {},
     "output_type": "execute_result"
    }
   ],
   "source": [
    "c.isalpha()# isalpha states whether all the characters in the string are alphabets or not"
   ]
  },
  {
   "cell_type": "code",
   "execution_count": 25,
   "id": "1e2ed939",
   "metadata": {},
   "outputs": [
    {
     "data": {
      "text/plain": [
       "True"
      ]
     },
     "execution_count": 25,
     "metadata": {},
     "output_type": "execute_result"
    }
   ],
   "source": [
    "c.isascii()#The ascii() function returns a readable version of any object (Strings, Tuples, Lists, etc)."
   ]
  },
  {
   "cell_type": "code",
   "execution_count": 26,
   "id": "7a14938e",
   "metadata": {},
   "outputs": [
    {
     "data": {
      "text/plain": [
       "False"
      ]
     },
     "execution_count": 26,
     "metadata": {},
     "output_type": "execute_result"
    }
   ],
   "source": [
    "c.isdecimal() #checks whether all characters are in decimal"
   ]
  },
  {
   "cell_type": "code",
   "execution_count": 28,
   "id": "39afb6af",
   "metadata": {},
   "outputs": [
    {
     "data": {
      "text/plain": [
       "False"
      ]
     },
     "execution_count": 28,
     "metadata": {},
     "output_type": "execute_result"
    }
   ],
   "source": [
    "c.isdigit()# returns true if all characters in the string are digits "
   ]
  },
  {
   "cell_type": "code",
   "execution_count": 38,
   "id": "fbae34b7",
   "metadata": {},
   "outputs": [
    {
     "data": {
      "text/plain": [
       "True"
      ]
     },
     "execution_count": 38,
     "metadata": {},
     "output_type": "execute_result"
    }
   ],
   "source": [
    "c.isidentifier()# checks whether the string is an identifier (identifier- includes _,number,lowercase or uppercase digits,etc)\n"
   ]
  },
  {
   "cell_type": "code",
   "execution_count": 40,
   "id": "2a69776a",
   "metadata": {},
   "outputs": [
    {
     "data": {
      "text/plain": [
       "True"
      ]
     },
     "execution_count": 40,
     "metadata": {},
     "output_type": "execute_result"
    }
   ],
   "source": [
    "c.islower()# true if all characters in the string are in lower case"
   ]
  },
  {
   "cell_type": "code",
   "execution_count": 41,
   "id": "89f28d21",
   "metadata": {},
   "outputs": [
    {
     "data": {
      "text/plain": [
       "False"
      ]
     },
     "execution_count": 41,
     "metadata": {},
     "output_type": "execute_result"
    }
   ],
   "source": [
    "c.isnumeric()# states whether all the characters in the string are numeric"
   ]
  },
  {
   "cell_type": "code",
   "execution_count": 42,
   "id": "53ccd4da",
   "metadata": {},
   "outputs": [
    {
     "data": {
      "text/plain": [
       "True"
      ]
     },
     "execution_count": 42,
     "metadata": {},
     "output_type": "execute_result"
    }
   ],
   "source": [
    "c.isprintable()# states whether the string is printable or not"
   ]
  },
  {
   "cell_type": "code",
   "execution_count": 44,
   "id": "0d34dbf1",
   "metadata": {},
   "outputs": [
    {
     "data": {
      "text/plain": [
       "False"
      ]
     },
     "execution_count": 44,
     "metadata": {},
     "output_type": "execute_result"
    }
   ],
   "source": [
    "c.isspace()# stands true if there are any whitespaces(whitespaces- are characters used for spacing for eg.newline, spaces, tabs, carriage return, feed, etc.) "
   ]
  },
  {
   "cell_type": "code",
   "execution_count": 49,
   "id": "d0be13b9",
   "metadata": {},
   "outputs": [
    {
     "data": {
      "text/plain": [
       "False"
      ]
     },
     "execution_count": 49,
     "metadata": {},
     "output_type": "execute_result"
    }
   ],
   "source": [
    "c.istitle()# true if the string follows the rules of title # eg. of rules of title is first letter of word being an upper case"
   ]
  },
  {
   "cell_type": "code",
   "execution_count": 50,
   "id": "774ed75d",
   "metadata": {},
   "outputs": [
    {
     "data": {
      "text/plain": [
       "False"
      ]
     },
     "execution_count": 50,
     "metadata": {},
     "output_type": "execute_result"
    }
   ],
   "source": [
    "c.isupper()# true if all characters in the string are in upper case "
   ]
  },
  {
   "cell_type": "code",
   "execution_count": null,
   "id": "5afd3317",
   "metadata": {},
   "outputs": [],
   "source": []
  }
 ],
 "metadata": {
  "kernelspec": {
   "display_name": "Python 3 (ipykernel)",
   "language": "python",
   "name": "python3"
  },
  "language_info": {
   "codemirror_mode": {
    "name": "ipython",
    "version": 3
   },
   "file_extension": ".py",
   "mimetype": "text/x-python",
   "name": "python",
   "nbconvert_exporter": "python",
   "pygments_lexer": "ipython3",
   "version": "3.9.12"
  }
 },
 "nbformat": 4,
 "nbformat_minor": 5
}
